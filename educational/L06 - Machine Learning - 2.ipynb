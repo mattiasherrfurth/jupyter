{
 "cells": [
  {
   "cell_type": "code",
   "execution_count": 1,
   "metadata": {
    "slideshow": {
     "slide_type": "skip"
    }
   },
   "outputs": [],
   "source": [
    "from __future__ import print_function"
   ]
  },
  {
   "cell_type": "markdown",
   "metadata": {
    "slideshow": {
     "slide_type": "slide"
    }
   },
   "source": [
    "# The Training Process\n",
    "\n",
    "As we saw in the slides about linear regression, the training process is an _iterative_ optimization problem.  This leaves us with the \"best\" model we can get.\n",
    "\n",
    "But how good is that model?"
   ]
  },
  {
   "cell_type": "markdown",
   "metadata": {
    "slideshow": {
     "slide_type": "slide"
    }
   },
   "source": [
    "# Evaluating Model Quality\n",
    "\n",
    "To evaluate a model, we need a way to measure its performance.  This area is _huge_ and could probably be a course (or at least half) on its own.\n",
    "\n",
    "There are many choices.  For classification, we have:\n",
    "\n",
    "* accuracy\n",
    "* Precision\n",
    "* Recall\n",
    "* F1-score\n",
    "* ...\n",
    "\n",
    "For regression we have:\n",
    "\n",
    "* Mean Squared Error (MSE)\n",
    "* $R^2$ score\n",
    "* ..."
   ]
  },
  {
   "cell_type": "markdown",
   "metadata": {
    "slideshow": {
     "slide_type": "slide"
    }
   },
   "source": [
    "# Accuracy\n",
    "\n",
    "Accuracy is the first metric everyone thinks of.   Think of it like a test.  Accuracy is the score on the test:\n",
    "\n",
    "\n",
    "$$\\frac{correct}{total}$$\n",
    "\n",
    "Pros:  Easy to compute, easy to understand\n",
    "\n",
    "Cons:  Does not discriminate between type I and type II errors, does not handle class imbalance"
   ]
  },
  {
   "cell_type": "code",
   "execution_count": 2,
   "metadata": {},
   "outputs": [],
   "source": [
    "# how many of the values were correct out of all of them?\n",
    "\n",
    "## HIGH VALUE == good\n",
    "## LOW VALUE == bad\n",
    "\n",
    "# value maxes out at 1"
   ]
  },
  {
   "cell_type": "markdown",
   "metadata": {
    "slideshow": {
     "slide_type": "slide"
    }
   },
   "source": [
    "# Precision\n",
    "\n",
    "Precision is (also called positive predictive value) is the fraction of relevant instances among the retrieved instances.\n",
    "\n",
    "$$\\frac{true positives}{true positives + false positives}$$\n",
    "\n",
    "Intuitively, your precision is good if you don't claim something is in a class when it isn't."
   ]
  },
  {
   "cell_type": "code",
   "execution_count": 3,
   "metadata": {},
   "outputs": [],
   "source": [
    "# how many values were actually properly acquired...?\n",
    "# how many of these values are relevant?\n",
    "\n",
    "# high precision means all the claims are true\n",
    "\n",
    "## HIGH VALUE == good\n",
    "## value maxes out at 1"
   ]
  },
  {
   "cell_type": "markdown",
   "metadata": {
    "slideshow": {
     "slide_type": "slide"
    }
   },
   "source": [
    "# Recall\n",
    "\n",
    "Recall is (also known as sensitivity) is the fraction of relevant instances that have been retrieved over the total amount of relevant instances.\n",
    "\n",
    "$$\\frac{true positives}{true positives + false negatives}$$\n",
    "\n",
    "Intuitively, your recall is good if you capture most of the actual positive, even if you mistakenly call something positive when it isn't.  \n",
    "\n",
    "Note that you can trivially get 100% recall by always saying \"positive\"!"
   ]
  },
  {
   "cell_type": "code",
   "execution_count": 4,
   "metadata": {},
   "outputs": [],
   "source": [
    "# do you capture all positive values?...\n",
    "\n",
    "# values max out at 1"
   ]
  },
  {
   "cell_type": "markdown",
   "metadata": {
    "slideshow": {
     "slide_type": "slide"
    }
   },
   "source": [
    "# F1-score\n",
    "\n",
    "* This measure combines precision and recall into a single metric.  \n",
    "* Computed as the harmonic mean of precision and recall:  $2\\frac{precision * recall}{precision + recall}$\n",
    "* By default (F1) it's evenly weighted to prefer one over the other.\n",
    "* Other variations can alter the weighting to prefer precision or recall\n",
    "\n",
    "Pros:  It's a single number that captures a lot of detail\n",
    "Cons:  It's a single number that captures a lot of detail, so some is lost or \"glossed over\""
   ]
  },
  {
   "cell_type": "code",
   "execution_count": 5,
   "metadata": {},
   "outputs": [],
   "source": [
    "# F1-score is a measurement taking into account both precision and recall\n",
    "\n",
    "# max value is 1"
   ]
  },
  {
   "cell_type": "markdown",
   "metadata": {
    "slideshow": {
     "slide_type": "slide"
    }
   },
   "source": [
    "# Confusion Matrix\n",
    "\n",
    "The confusion matrix for a classifier is a table-oriented display that shows how many of the evaluation samples fall into each bucket:  true positive, true negative, false positive, and false negative.\n",
    "\n",
    "![precision-recall-confusion-matrix-diagram.png](precision-recall-confusion-matrix-diagram.png)"
   ]
  },
  {
   "cell_type": "code",
   "execution_count": null,
   "metadata": {},
   "outputs": [],
   "source": []
  },
  {
   "cell_type": "markdown",
   "metadata": {
    "slideshow": {
     "slide_type": "slide"
    }
   },
   "source": [
    "#  Let's revisit our classifier and see how it performed."
   ]
  },
  {
   "cell_type": "code",
   "execution_count": 6,
   "metadata": {
    "slideshow": {
     "slide_type": "slide"
    }
   },
   "outputs": [
    {
     "data": {
      "image/png": "[encoded data removed]",
      "text/plain": [
       "<Figure size 405.725x360 with 1 Axes>"
      ]
     },
     "metadata": {},
     "output_type": "display_data"
    }
   ],
   "source": [
    "#  Re-add in classification code here\n",
    "#  Some boilerplate for visualization...\n",
    "%matplotlib inline\n",
    "from matplotlib import pyplot as plt\n",
    "import seaborn as sns\n",
    "sns.set(color_codes=True)\n",
    "\n",
    "from pandas import DataFrame\n",
    "from sklearn.datasets import make_blobs\n",
    "\n",
    "#  Note: Make the cluster_std parameter > 1 to make the blobs less distinct\n",
    "#  This makes the classification problem harder and shows how the scores change.\n",
    "X, y = make_blobs(n_features=2, centers=2, random_state=42, cluster_std=1) \n",
    "df = DataFrame(X)\n",
    "\n",
    "#  Add the target variable into the dataframe (this let's seaborn color based on it)\n",
    "df['target'] = y\n",
    "\n",
    "#  Name the columns for sanity's sake...\n",
    "df.columns = ['x', 'y', 'target']\n",
    "\n",
    "#  Plot the blobs\n",
    "facetgrid = sns.lmplot(data=df, x='x', y='y', hue='target', fit_reg=False)"
   ]
  },
  {
   "cell_type": "code",
   "execution_count": 7,
   "metadata": {
    "slideshow": {
     "slide_type": "slide"
    }
   },
   "outputs": [
    {
     "data": {
      "text/plain": [
       "array([0, 1])"
      ]
     },
     "execution_count": 7,
     "metadata": {},
     "output_type": "execute_result"
    }
   ],
   "source": [
    "#  Now we build the model.\n",
    "from sklearn.linear_model import LogisticRegression\n",
    "\n",
    "#  Let's create a logistic regression classifier \n",
    "#  (we'll talk about the details of this later)\n",
    "#\n",
    "#  In sklearn parlance, this is an Estimator and can be .fit()\n",
    "#  to data and can .predict() on data.\n",
    "clf = LogisticRegression()\n",
    "clf.fit(X, y)\n",
    "\n",
    "#  Now we're done training.\n",
    "new_examples = [\n",
    "    [-4, 10],\n",
    "    [10, -4]\n",
    "]\n",
    "\n",
    "#  Let's see where we predict these new samples lie.\n",
    "clf.predict(new_examples)"
   ]
  },
  {
   "cell_type": "code",
   "execution_count": 8,
   "metadata": {
    "slideshow": {
     "slide_type": "slide"
    }
   },
   "outputs": [
    {
     "name": "stdout",
     "output_type": "stream",
     "text": [
      "accuracy_score: 1.0\n",
      "precision_score: 1.0\n",
      "recall_score: 1.0\n",
      "f1_score: 1.0\n",
      "\n",
      "Classification Report:\n",
      "             precision    recall  f1-score   support\n",
      "\n",
      "          0       1.00      1.00      1.00        50\n",
      "          1       1.00      1.00      1.00        50\n",
      "\n",
      "avg / total       1.00      1.00      1.00       100\n",
      "\n",
      "\n",
      "Confusion Matrix:\n",
      "[[50  0]\n",
      " [ 0 50]]\n"
     ]
    }
   ],
   "source": [
    "#  Let's look at some metrics\n",
    "from sklearn.metrics import (accuracy_score, f1_score, \n",
    "                             precision_score, recall_score,\n",
    "                             classification_report, confusion_matrix)\n",
    "\n",
    "y_pred = clf.predict(X)\n",
    "\n",
    "for metric in (accuracy_score, precision_score, recall_score, f1_score):\n",
    "    print('%s: %r' % (str(metric.__name__), metric(y, y_pred)))\n",
    "    \n",
    "print('\\nClassification Report:')\n",
    "print(classification_report(y, y_pred))\n",
    "print('\\nConfusion Matrix:')\n",
    "print(confusion_matrix(y, y_pred))"
   ]
  },
  {
   "cell_type": "code",
   "execution_count": 9,
   "metadata": {},
   "outputs": [],
   "source": [
    "# support is number of samples which are classified under your system?... can spot class imbalance between one and zero"
   ]
  },
  {
   "cell_type": "markdown",
   "metadata": {
    "slideshow": {
     "slide_type": "slide"
    }
   },
   "source": [
    "#  Overfitting\n",
    "\n",
    "One crucial thing I haven't talked about yet is \"overfitting\".  \n",
    "\n",
    "Recall that the goal of ML is normally _prediction_.  We don't want to simply explain the data we've seen, but we want to use what we've observed to be able to _predict_ what is likely the target value for _unseen data_.\n",
    "\n",
    "Abstractly, overfitting is when you come close to \"memorizing\" your data set.  It means you perform very well on the training data set, but your model doesn't _generalize well_ to unseen data."
   ]
  },
  {
   "cell_type": "code",
   "execution_count": null,
   "metadata": {},
   "outputs": [],
   "source": []
  },
  {
   "cell_type": "code",
   "execution_count": null,
   "metadata": {},
   "outputs": [],
   "source": []
  }
 ],
 "metadata": {
  "celltoolbar": "Slideshow",
  "kernelspec": {
   "display_name": "Python 3",
   "language": "python",
   "name": "python3"
  },
  "language_info": {
   "codemirror_mode": {
    "name": "ipython",
    "version": 3
   },
   "file_extension": ".py",
   "mimetype": "text/x-python",
   "name": "python",
   "nbconvert_exporter": "python",
   "pygments_lexer": "ipython3",
   "version": "3.7.0"
  }
 },
 "nbformat": 4,
 "nbformat_minor": 2
}
