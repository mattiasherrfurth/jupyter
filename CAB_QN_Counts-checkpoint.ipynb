{
 "cells": [
  {
   "cell_type": "code",
   "execution_count": null,
   "metadata": {},
   "outputs": [],
   "source": [
    "import pandas as pd\n",
    "import seaborn as sns\n",
    "import numpy as np\n",
    "from datetime import datetime\n",
    "import matplotlib.pyplot as plt"
   ]
  },
  {
   "cell_type": "code",
   "execution_count": null,
   "metadata": {},
   "outputs": [],
   "source": [
    "df = pd.read_excel(r'C:\\Users\\J20032\\Documents\\AMEC_CAB_RAW_20190520.xlsx')\n",
    "\n",
    "cnts = []\n",
    "\n",
    "for x in df['Part Number'].unique():\n",
    "    cnt = df[df['Part Number'] == x].shape[0]\n",
    "    cnts = cnts + [{'PN':x, 'cnt':cnt}]\n",
    "\n",
    "cnts = sorted(cnts, key = lambda i: i['cnt'], reverse = True)\n",
    "\n",
    "df['Date'] = df['QN Item Created Date'].apply(lambda row: pd.to_datetime(str(row)).strftime('%Y-%m-%d'))"
   ]
  },
  {
   "cell_type": "code",
   "execution_count": null,
   "metadata": {},
   "outputs": [],
   "source": [
    "### NEED TO SORT ORIGINAL DATAFRAME BY DATE ###\n",
    "\n",
    "### ...MAYBE ###\n",
    "\n",
    "### ACTUALLY, IT'S PROBABLY GOOD TO HAVE THE TOP 10 BEING PULLED FROM THE WHOLE DATASET ###"
   ]
  },
  {
   "cell_type": "code",
   "execution_count": null,
   "metadata": {},
   "outputs": [],
   "source": [
    "cnt10 = cnts[0:10]"
   ]
  },
  {
   "cell_type": "code",
   "execution_count": null,
   "metadata": {},
   "outputs": [],
   "source": [
    "cnt10"
   ]
  },
  {
   "cell_type": "code",
   "execution_count": null,
   "metadata": {},
   "outputs": [],
   "source": [
    "cnt10[0]['PN']"
   ]
  },
  {
   "cell_type": "code",
   "execution_count": null,
   "metadata": {},
   "outputs": [],
   "source": [
    "top10 = []\n",
    "\n",
    "for y in cnt10:\n",
    "    top10 = top10 + [y['PN']]"
   ]
  },
  {
   "cell_type": "code",
   "execution_count": null,
   "metadata": {},
   "outputs": [],
   "source": [
    "# dates = []\n",
    "# days = []\n",
    "\n",
    "# for a in df['QN Item Created Date'].unique():\n",
    "#     dates = dates + [a]\n",
    "#     days = days + [np.datetime64(a).astype("
   ]
  },
  {
   "cell_type": "code",
   "execution_count": null,
   "metadata": {},
   "outputs": [],
   "source": [
    "# ts = pd.to_datetime(str(dates[0]))\n",
    "# d = ts.strftime('%Y-%m-%d')\n",
    "\n",
    "# d"
   ]
  },
  {
   "cell_type": "code",
   "execution_count": null,
   "metadata": {},
   "outputs": [],
   "source": []
  },
  {
   "cell_type": "code",
   "execution_count": null,
   "metadata": {},
   "outputs": [],
   "source": [
    "# df['Date']"
   ]
  },
  {
   "cell_type": "code",
   "execution_count": null,
   "metadata": {},
   "outputs": [],
   "source": [
    "# # df_days = df.set_index('Date')\n",
    "\n",
    "# # counts = df.groupby(['Part Number', 'Date']).agg(len)\n",
    "# plt.subplots(figsize=(14,8))\n",
    "# plt.xticks(rotation=45)\n",
    "\n",
    "# cols = ['Date','Count']\n",
    "\n",
    "# sets = []\n",
    "\n",
    "# for p in top10:\n",
    "#     tab = []\n",
    "#     for d in df['Date'].unique():\n",
    "#         count = df[(df['Part Number'] == p) & (df['Date'] == d)].shape[0]\n",
    "#         tab = tab + [[d, count]]\n",
    "#     table = pd.DataFrame(data = tab, columns = cols)\n",
    "#     sns.lineplot(x='Date',y='Count',data=table)\n",
    "#     plt.title(p)\n",
    "#     plt.show()"
   ]
  },
  {
   "cell_type": "code",
   "execution_count": null,
   "metadata": {
    "scrolled": true
   },
   "outputs": [],
   "source": [
    "# df_days = df.set_index('Date')\n",
    "\n",
    "# # counts = df.groupby(['Part Number', 'Date']).agg(len)\n",
    "# # plt.subplots(figsize=(14,8))\n",
    "# plt.xticks(rotation=45)\n",
    "\n",
    "# cols = ['Date','Count']\n",
    "\n",
    "# sets = []\n",
    "\n",
    "# for p in top10:\n",
    "#     plt.subplots(figsize=(14,8))\n",
    "#     tab = []\n",
    "#     for d in df['Date'].unique():\n",
    "#         count = df[(df['Part Number'] == p) & (df['Date'] == d)].shape[0]\n",
    "#         tab = tab + [[d, count]]\n",
    "#     table = pd.DataFrame(data = tab, columns = cols).set_index('Date')\n",
    "    \n",
    "#     sns.lineplot(x='index',y='Count',data=table)\n",
    "#     plt.title(p)\n",
    "#     plt.show()"
   ]
  },
  {
   "cell_type": "code",
   "execution_count": null,
   "metadata": {
    "scrolled": false
   },
   "outputs": [],
   "source": [
    "df_days = df.set_index('Date')\n",
    "\n",
    "# counts = df.groupby(['Part Number', 'Date']).agg(len)\n",
    "plt.figure(figsize=(14,8))\n",
    "plt.xticks(rotation=45)\n",
    "\n",
    "cols = ['Date','Count']\n",
    "\n",
    "sets = []\n",
    "\n",
    "for p in top10:\n",
    "    tab = []\n",
    "    for d in df['Date'].unique():\n",
    "        count = df[(df['Part Number'] == p) & (df['Date'] == d)].shape[0]\n",
    "        tab = tab + [[d, count]]\n",
    "    table = pd.DataFrame(data = tab, columns = cols).sort_values('Date')\n",
    "    tab_s = table.set_index('Date')\n",
    "    tab_m = tab_s.loc['2019-04-20':'2019-05-17']\n",
    "    tab_m['Date'] = tab_m.index\n",
    "    sns.lineplot(x='Date',y='Count',data=tab_m)\n",
    "    plt.xticks(rotation=45)\n",
    "    plt.title(p)\n",
    "    plt.show()\n",
    "    plt.figure(figsize=(14,8))"
   ]
  },
  {
   "cell_type": "code",
   "execution_count": null,
   "metadata": {},
   "outputs": [],
   "source": [
    "# table.head(1000)\n",
    "\n",
    "# table.loc['2019-04-04':'2019-04-17']"
   ]
  },
  {
   "cell_type": "code",
   "execution_count": null,
   "metadata": {},
   "outputs": [],
   "source": [
    "df_sort = df.sort_values('QN Item Created Date')\n",
    "\n",
    "df_days = df.set_index('Date')\n",
    "\n",
    "df_trim = df_days.loc['2019-04-08':'2019-04-17']"
   ]
  },
  {
   "cell_type": "code",
   "execution_count": null,
   "metadata": {},
   "outputs": [],
   "source": [
    "df_sort = df.sort_values('QN Item Created Date')\n",
    "\n",
    "df_sort.head(100)"
   ]
  }
 ],
 "metadata": {
  "kernelspec": {
   "display_name": "Python 3",
   "language": "python",
   "name": "python3"
  },
  "language_info": {
   "codemirror_mode": {
    "name": "ipython",
    "version": 3
   },
   "file_extension": ".py",
   "mimetype": "text/x-python",
   "name": "python",
   "nbconvert_exporter": "python",
   "pygments_lexer": "ipython3",
   "version": "3.8.5"
  }
 },
 "nbformat": 4,
 "nbformat_minor": 2
}
