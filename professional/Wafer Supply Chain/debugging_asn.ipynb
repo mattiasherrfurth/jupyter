{
 "cells": [
  {
   "cell_type": "code",
   "execution_count": null,
   "id": "2134021d-9dfc-4671-8956-6afefe1215d9",
   "metadata": {
    "tags": []
   },
   "outputs": [],
   "source": [
    "import xml.etree.ElementTree as ET"
   ]
  },
  {
   "cell_type": "code",
   "execution_count": null,
   "id": "d2e06826-020a-48f3-b992-b40217e68368",
   "metadata": {
    "tags": []
   },
   "outputs": [],
   "source": [
    "badfile = r'C:\\Users\\username\\Documents\\project\\source S3 Data\\ASN\\filename.xml'\n",
    "goodfile = r'C:\\Users\\username\\Documents\\project\\source S3 Data\\ASN\\filename.xml'\n"
   ]
  },
  {
   "cell_type": "code",
   "execution_count": null,
   "id": "5d0f5da3-faf7-4178-8b04-0d839a55a204",
   "metadata": {
    "tags": []
   },
   "outputs": [],
   "source": [
    "def etree_iter_path(node, tag=None, path='.'):\n",
    "    if tag == \"*\":\n",
    "        tag = None\n",
    "    if tag is None or node.tag == tag:\n",
    "        yield node, path\n",
    "    for child in node:\n",
    "        _child_path = '%s/%s' % (path, child.tag)\n",
    "        for child, child_path in etree_iter_path(child, tag, path=_child_path):\n",
    "            yield child, child_path"
   ]
  },
  {
   "cell_type": "code",
   "execution_count": null,
   "id": "fb85bb84-9ead-456b-948c-81407b111a53",
   "metadata": {
    "tags": []
   },
   "outputs": [],
   "source": [
    "badxmldoc = ET.parse(badfile)\n",
    "for elem, path in etree_iter_path(badxmldoc.getroot()):\n",
    "    if len(elem.text) > 20:\n",
    "        print(elem.text, path)"
   ]
  },
  {
   "cell_type": "code",
   "execution_count": null,
   "id": "c19cc3e1-de1d-424f-9e15-bbfe619bf56e",
   "metadata": {
    "tags": []
   },
   "outputs": [],
   "source": [
    "goodxmldoc = ET.parse(goodfile)\n",
    "for elem, path in etree_iter_path(badxmldoc.getroot()):\n",
    "    if len(elem.text) > 20:\n",
    "        print(elem.text, path)"
   ]
  },
  {
   "cell_type": "markdown",
   "id": "3aa52fd8-4849-4400-b1db-e023f1523143",
   "metadata": {},
   "source": [
    "### Testing with lxml"
   ]
  },
  {
   "cell_type": "code",
   "execution_count": null,
   "id": "3d6ebd21-40c2-4298-ad29-cba61e7c0e96",
   "metadata": {
    "tags": []
   },
   "outputs": [],
   "source": [
    "from lxml import etree"
   ]
  },
  {
   "cell_type": "code",
   "execution_count": null,
   "id": "5d1f9168-b971-4db1-8606-76a6a32afa51",
   "metadata": {
    "tags": []
   },
   "outputs": [],
   "source": [
    "def print_path_of_elems_15(elem, elem_path=\"\"):\n",
    "    for child in elem:\n",
    "        if len(child.text) > 15:\n",
    "            # leaf node with text => print\n",
    "            print(\"%s/%s, %s\"%('/'.join(elem_path.split(r'/')[1:]), child.tag, child.text))\n",
    "        else:\n",
    "            # node with child elements => recurse\n",
    "            print_path_of_elems(child, \"%s/%s\" % (elem_path, child.tag))"
   ]
  },
  {
   "cell_type": "code",
   "execution_count": null,
   "id": "f59bcc6a-30b7-430a-8a0d-355129bf87b1",
   "metadata": {
    "tags": []
   },
   "outputs": [],
   "source": [
    "def print_path_of_elems(elem, elem_path=\"\"):\n",
    "    for child in elem:\n",
    "        if not child.getchildren() and len(child.text) > 20:\n",
    "            # leaf node with text => print\n",
    "            print(\"%s/%s, %s\"%('/'.join(elem_path.split(r'/')[1:]), child.tag, child.text))\n",
    "        else:\n",
    "            # node with child elements => recurse\n",
    "            print_path_of_elems(child, \"%s/%s\" % (elem_path, child.tag))"
   ]
  },
  {
   "cell_type": "code",
   "execution_count": null,
   "id": "7a3e7833-dec4-4b80-9912-8389e7439fd3",
   "metadata": {
    "tags": []
   },
   "outputs": [],
   "source": [
    "file = r'C:\\Users\\username\\Documents\\program\\somefile.xml'\n",
    "with open(file) as x:\n",
    "    xml = x.read().encode('utf-8')\n",
    "root = etree.XML(xml)\n",
    "print_path_of_elems_15(root, root.tag)"
   ]
  },
  {
   "cell_type": "code",
   "execution_count": null,
   "id": "ea4d9b48-dbcf-4282-b2a8-48d83a3c935e",
   "metadata": {
    "tags": []
   },
   "outputs": [],
   "source": [
    "file = r'C:\\Users\\username\\Documents\\program\\somefile.xml'\n",
    "with open(file) as x:\n",
    "    xml = x.read().encode('utf-8')\n",
    "root = etree.XML(xml)\n",
    "print_path_of_elems_20(root, root.tag)"
   ]
  },
  {
   "cell_type": "code",
   "execution_count": null,
   "id": "0658985d-7466-44b5-8eaa-21d290f2262d",
   "metadata": {
    "tags": []
   },
   "outputs": [],
   "source": [
    "def pathGen(fn):\n",
    "    path = []\n",
    "    it = ET.iterparse(fn, events=('start', 'end'))\n",
    "    for evt, el in it:\n",
    "        if evt == 'start':\n",
    "            path.append(el.tag)\n",
    "            yield '/'.join(path)\n",
    "        else:\n",
    "            path.pop()"
   ]
  },
  {
   "cell_type": "code",
   "execution_count": null,
   "id": "cf6d34b0-42d0-422a-b39b-238d3a583e58",
   "metadata": {
    "tags": []
   },
   "outputs": [],
   "source": [
    "for pth in pathGen(file):\n",
    "    print(pth)"
   ]
  },
  {
   "cell_type": "code",
   "execution_count": null,
   "id": "7f17d3c7-b497-4f3c-9abb-211d0784dd3e",
   "metadata": {
    "tags": []
   },
   "outputs": [],
   "source": [
    "for y in xml_tree.iter():\n",
    "    x = y\n",
    "    break"
   ]
  },
  {
   "cell_type": "code",
   "execution_count": null,
   "id": "51ac6dda-9ea2-4d3b-8ebc-cf60f39b6823",
   "metadata": {
    "tags": []
   },
   "outputs": [],
   "source": [
    "x.attrib"
   ]
  },
  {
   "cell_type": "code",
   "execution_count": null,
   "id": "2d418bb3-f952-420f-a4d6-e1745b760c7c",
   "metadata": {
    "tags": []
   },
   "outputs": [],
   "source": [
    "for y in xml_tree.iter():\n",
    "    if len(y.text) >= 20:\n",
    "        print(y.getroot,'\\n\\t',y.text)"
   ]
  }
 ],
 "metadata": {
  "kernelspec": {
   "display_name": "Python 3 (ipykernel)",
   "language": "python",
   "name": "python3"
  },
  "language_info": {
   "codemirror_mode": {
    "name": "ipython",
    "version": 3
   },
   "file_extension": ".py",
   "mimetype": "text/x-python",
   "name": "python",
   "nbconvert_exporter": "python",
   "pygments_lexer": "ipython3",
   "version": "3.9.6"
  }
 },
 "nbformat": 4,
 "nbformat_minor": 5
}
