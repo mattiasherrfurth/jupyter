{
 "cells": [
  {
   "cell_type": "code",
   "execution_count": null,
   "id": "1d82e57c-5302-4891-afca-427c31b0b4d9",
   "metadata": {
    "tags": []
   },
   "outputs": [],
   "source": [
    "import os\n",
    "import openpyxl\n",
    "import pandas as pd\n",
    "\n",
    "pd.set_option('display.max_rows', 500)\n",
    "pd.set_option('display.max_columns', 500)\n",
    "pd.set_option('display.width', 1000)"
   ]
  },
  {
   "cell_type": "code",
   "execution_count": null,
   "id": "6da7ec18-9ccf-4728-9824-c1cb78914db2",
   "metadata": {
    "tags": []
   },
   "outputs": [],
   "source": [
    "folder = r'\\path\\to\\folder'"
   ]
  },
  {
   "cell_type": "markdown",
   "id": "588a3261-27a9-4b82-b82b-3beafe8e30ce",
   "metadata": {},
   "source": [
    "#### Getting filenames that all have \"raw\" sheets"
   ]
  },
  {
   "cell_type": "code",
   "execution_count": null,
   "id": "c3651b1f-bd0f-4ecd-83c6-137a6f6c1629",
   "metadata": {},
   "outputs": [],
   "source": [
    "sn_df = pd.DataFrame(columns=['root','filename','sheetname'])\n",
    "for root,dirs,files in os.walk(folder):\n",
    "    for f in files:\n",
    "        try:\n",
    "            if ('SOTD' in f or 'PLTS' in f) and root.split('\\\\')[-1].startswith('20'):\n",
    "                file = root + '\\\\' + f\n",
    "                xl = openpyxl.load_workbook(file)\n",
    "                for sheet in xl.sheetnames:\n",
    "                    sn_df.loc[len(sn_df)] = [file,f,sheet]\n",
    "        except Exception as e:\n",
    "            print('File errored: %s\\nError: %s\\n'%(file,e))"
   ]
  },
  {
   "cell_type": "code",
   "execution_count": null,
   "id": "223b602b-f611-4daa-92e3-11f9b28a08c9",
   "metadata": {
    "tags": []
   },
   "outputs": [],
   "source": [
    "sn_df['raw_check'] = sn_df['sheetname'].map(lambda x: True if 'raw' in str(x).lower() else False)"
   ]
  },
  {
   "cell_type": "code",
   "execution_count": null,
   "id": "61cf50d2-a3bb-4f65-bb3a-47ef23257097",
   "metadata": {
    "tags": []
   },
   "outputs": [],
   "source": [
    "cols_df = pd.DataFrame(columns=['root','filename','column'])\n",
    "for row in sn_df[sn_df['raw_check']==True].iterrows():\n",
    "    root = row[1]['root']\n",
    "    filename = row[1]['filename']\n",
    "    sheet = row[1]['sheetname']\n",
    "    df = pd.read_excel(root,sheet_name=sheet,skiprows=1)\n",
    "    df = df.drop(df.columns[0:2], axis=1)\n",
    "    for c in df.columns:\n",
    "        cols_df.loc[len(cols_df)] = [root,filename,c]"
   ]
  },
  {
   "cell_type": "markdown",
   "id": "c3de9bef-0836-4dd0-be6c-4426f7fcec93",
   "metadata": {},
   "source": [
    "### Reading data from the raw sheets in each excel file\n",
    "### Loading data into dataframes, making a list of dataframes"
   ]
  },
  {
   "cell_type": "code",
   "execution_count": null,
   "id": "7d4ce428-54ac-486f-a053-1b36ffdc618b",
   "metadata": {},
   "outputs": [],
   "source": [
    "dfs = []\n",
    "for row in sn_df[sn_df['raw_check']==True].iterrows():\n",
    "    root = row[1]['root']\n",
    "    filename = row[1]['filename']\n",
    "    sheet = row[1]['sheetname']\n",
    "    df = pd.read_excel(root,sheet_name=sheet,skiprows=1)\n",
    "    df = df.drop(df.columns[0:2], axis=1)\n",
    "    df.insert(0,'filename',filename)\n",
    "    dfs += [df]"
   ]
  },
  {
   "cell_type": "markdown",
   "id": "31a20c9e-4390-47ca-8096-60ccd3d553ea",
   "metadata": {},
   "source": [
    "### Making a list of the columns that are present in the majority of raw data sheets"
   ]
  },
  {
   "cell_type": "code",
   "execution_count": null,
   "id": "0dd822bd-074b-430a-a079-0258bf84f25d",
   "metadata": {
    "tags": []
   },
   "outputs": [],
   "source": [
    "cols = cols_df.groupby(['column'])['column'].count().sort_values()"
   ]
  },
  {
   "cell_type": "code",
   "execution_count": null,
   "id": "8bcd7399-afbf-4273-95c2-504932fc5fc3",
   "metadata": {
    "tags": []
   },
   "outputs": [],
   "source": [
    "columns = [c for c in cols.tail(25).index]\n",
    "columns = ['filename'] + columns"
   ]
  },
  {
   "cell_type": "markdown",
   "id": "83c3de4f-b230-4e6e-afb3-9eb491acc079",
   "metadata": {},
   "source": [
    "### Loading all dataframes into one dataframe and exporting to CSV"
   ]
  },
  {
   "cell_type": "code",
   "execution_count": null,
   "id": "5814b2ef-9cb0-4a81-b905-7f40e58eb231",
   "metadata": {
    "tags": []
   },
   "outputs": [],
   "source": [
    "full_df = pd.DataFrame(columns=columns)\n",
    "for d in dfs:\n",
    "    if 'Material Number P/N' in d.columns:\n",
    "        d['Material Number'] = d['Material Number P/N']\n",
    "    else:\n",
    "        pass\n",
    "    if 'NRD Date' not in d.columns:\n",
    "        d['NRD Date'] = None\n",
    "    if 'PO SCL Delivery Date' not in d.columns:\n",
    "        d['PO SCL Delivery Date'] = None\n",
    "    if 'Buyer Name' not in d.columns:\n",
    "        d['Buyer Name'] = None\n",
    "    full_df = pd.concat([full_df,d])\n",
    "full_df.to_csv(r'\\path\\to\\csv\\file.csv',index=False)"
   ]
  },
  {
   "cell_type": "code",
   "execution_count": null,
   "id": "839b8f5b-3503-495c-83d3-029db1be939c",
   "metadata": {
    "tags": []
   },
   "outputs": [],
   "source": [
    "full_df.shape[0]"
   ]
  },
  {
   "cell_type": "code",
   "execution_count": null,
   "id": "860f58be-5463-49c6-9fbb-d2c69f61d3e3",
   "metadata": {
    "tags": []
   },
   "outputs": [],
   "source": [
    "sum_length = 0\n",
    "for x in dfs:\n",
    "    sum_length += x.shape[0]\n",
    "print(sum_length)"
   ]
  }
 ],
 "metadata": {
  "kernelspec": {
   "display_name": "Python 3 (ipykernel)",
   "language": "python",
   "name": "python3"
  },
  "language_info": {
   "codemirror_mode": {
    "name": "ipython",
    "version": 3
   },
   "file_extension": ".py",
   "mimetype": "text/x-python",
   "name": "python",
   "nbconvert_exporter": "python",
   "pygments_lexer": "ipython3",
   "version": "3.9.6"
  }
 },
 "nbformat": 4,
 "nbformat_minor": 5
}
