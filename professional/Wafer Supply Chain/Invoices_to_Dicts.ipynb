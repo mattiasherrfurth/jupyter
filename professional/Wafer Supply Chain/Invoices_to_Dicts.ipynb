{
 "cells": [
  {
   "cell_type": "code",
   "execution_count": null,
   "id": "f3c186a6",
   "metadata": {},
   "outputs": [],
   "source": [
    "import xmltodict"
   ]
  },
  {
   "cell_type": "code",
   "execution_count": null,
   "id": "daf5b87c",
   "metadata": {},
   "outputs": [],
   "source": [
    "invoice_dir = r'C:\\path\\to\\folder'\n",
    "mcm_xml = invoice_dir + r'\\MCM (Package)\\112524.xml'\n",
    "wfr_xml_1 = invoice_dir + r'\\Wafer\\112482.xml'\n",
    "wfr_xml_2 = invoice_dir + r'\\Wafer\\Invoice 112773 6-1.xml'\n",
    "wfr_xml_3 = invoice_dir + r'\\Wafer\\Invoice 112776 6-1.xml'"
   ]
  },
  {
   "cell_type": "code",
   "execution_count": null,
   "id": "29f66f19",
   "metadata": {},
   "outputs": [],
   "source": [
    "def unique(list1):\n",
    "    list_set = set(list1)\n",
    "    unique_list = (list(list_set))\n",
    "    return unique_list   \n",
    "        \n",
    "def iterdict_tagged(d,tag,tagged_list):\n",
    "    for k,v in d.items():        \n",
    "        if isinstance(v, dict):\n",
    "            tagged_list = iterdict_tagged(v,tag+'%s.'%k,tagged_list)\n",
    "        else:            \n",
    "            tagged_list += [[tag[:-1],v]]\n",
    "    return(tagged_list)\n",
    "\n",
    "def xml_to_taggedlist(path):\n",
    "    with open(path) as mcm:\n",
    "        mcm_list = iterdict_tagged(xmltodict.parse(mcm.read()),'',[])\n",
    "    return mcm_list"
   ]
  },
  {
   "cell_type": "code",
   "execution_count": null,
   "id": "f9149dbd",
   "metadata": {},
   "outputs": [],
   "source": [
    "mcm_list = xml_to_taggedlist(mcm_xml)\n",
    "wfr_list_1 = xml_to_taggedlist(wfr_xml_1)\n",
    "wfr_list_2 = xml_to_taggedlist(wfr_xml_2)\n",
    "wfr_list_3 = xml_to_taggedlist(wfr_xml_3)"
   ]
  },
  {
   "cell_type": "code",
   "execution_count": null,
   "id": "206000e0",
   "metadata": {},
   "outputs": [],
   "source": [
    "for x in mcm_list:\n",
    "    if isinstance(x[1],str):\n",
    "        pass\n",
    "    elif isinstance(x[1],list):\n",
    "        print('This field is a list: %s'%x[0])\n",
    "        print('Here is the list: ')\n",
    "        for y in x[1]:\n",
    "            print('\\nThe first item in the list is %s'%y.__class__)\n",
    "            print('\\n',y,'\\n')\n",
    "    else:\n",
    "        pass    "
   ]
  },
  {
   "cell_type": "code",
   "execution_count": null,
   "id": "6be374e3",
   "metadata": {},
   "outputs": [],
   "source": []
  },
  {
   "cell_type": "code",
   "execution_count": null,
   "id": "4b5fb87f",
   "metadata": {},
   "outputs": [],
   "source": [
    "types = []\n",
    "for x in mcm_list:\n",
    "    types += [x[1].__class__]\n",
    "    print(x[1].__class__)\n",
    "unq = unique(types)"
   ]
  }
 ],
 "metadata": {
  "kernelspec": {
   "display_name": "Python 3 (ipykernel)",
   "language": "python",
   "name": "python3"
  },
  "language_info": {
   "codemirror_mode": {
    "name": "ipython",
    "version": 3
   },
   "file_extension": ".py",
   "mimetype": "text/x-python",
   "name": "python",
   "nbconvert_exporter": "python",
   "pygments_lexer": "ipython3",
   "version": "3.9.6"
  }
 },
 "nbformat": 4,
 "nbformat_minor": 5
}
