{
 "cells": [
  {
   "cell_type": "code",
   "execution_count": 1,
   "id": "6aa1c2da-3e82-4e98-8db3-cbe60d4abdcb",
   "metadata": {
    "tags": []
   },
   "outputs": [],
   "source": [
    "import os\n",
    "import pyodbc\n",
    "import pandas as pd"
   ]
  },
  {
   "cell_type": "code",
   "execution_count": 2,
   "id": "0a116daa-791c-4d43-ac22-ce611b75af4d",
   "metadata": {
    "tags": []
   },
   "outputs": [],
   "source": [
    "def postgresProdDsn(query):\n",
    "    cnxn = pyodbc.connect(\"DSN=PostgresBronxProd\")\n",
    "    cursor = cnxn.cursor()\n",
    "    cursor.execute(query)\n",
    "    data = cursor.fetchall()\n",
    "    columns = [column[0] for column in cursor.description]\n",
    "    cnxn.close()\n",
    "    return columns,data"
   ]
  },
  {
   "cell_type": "code",
   "execution_count": null,
   "id": "2b060cfc-3f5b-4b17-b79f-ddec1aa2b4a5",
   "metadata": {},
   "outputs": [],
   "source": [
    "folder = r'C:\\path\\to\\folder\\with\\queries'\n",
    "outdir = r'C:\\path\\to\\csv\\output\\folder'\n",
    "for x in os.listdir(folder):\n",
    "    name = x.split('.')[0]\n",
    "    outfile = outdir + '\\\\' + name + '.csv'\n",
    "    print(x)\n",
    "    if x.split('.')[-1] == 'sql':\n",
    "        with open(folder + '\\\\' + x) as f:\n",
    "            query = f.read()\n",
    "            cols,rawdata = postgresProdDsn(query)\n",
    "            data = []\n",
    "            for r in rawdata:\n",
    "                data += [list(r)]\n",
    "            df = pd.DataFrame(data,columns=cols)\n",
    "            df.to_csv(outfile)"
   ]
  }
 ],
 "metadata": {
  "kernelspec": {
   "display_name": "Python 3 (ipykernel)",
   "language": "python",
   "name": "python3"
  },
  "language_info": {
   "codemirror_mode": {
    "name": "ipython",
    "version": 3
   },
   "file_extension": ".py",
   "mimetype": "text/x-python",
   "name": "python",
   "nbconvert_exporter": "python",
   "pygments_lexer": "ipython3",
   "version": "3.9.6"
  }
 },
 "nbformat": 4,
 "nbformat_minor": 5
}
