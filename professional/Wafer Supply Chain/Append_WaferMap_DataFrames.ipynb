{
 "cells": [
  {
   "cell_type": "code",
   "execution_count": 1,
   "metadata": {},
   "outputs": [],
   "source": [
    "import pandas as pd\n",
    "import os"
   ]
  },
  {
   "cell_type": "code",
   "execution_count": 2,
   "metadata": {},
   "outputs": [],
   "source": [
    "def Get_TekMap_Paths(folder):\n",
    "    paths = []\n",
    "    for folder, dirs, files in os.walk(folder):\n",
    "        for file in files:\n",
    "            fullpath = os.path.join(folder, file)\n",
    "            with open(fullpath, 'r') as f:\n",
    "                for line in f:\n",
    "                    if line[:7].lower() != 'rowdata':\n",
    "                        paths += [fullpath]\n",
    "                        break\n",
    "    return paths\n",
    "\n",
    "def TekMap_to_DataFrame(path):\n",
    "    with open(path) as f:\n",
    "        lines = f.readlines()\n",
    "    header = []\n",
    "    tekmap = []\n",
    "    # parsing through lines to pull out header info into header list, then the map info into the tekmap list\n",
    "    for x in lines:\n",
    "        if x[:7].lower() != 'rowdata':\n",
    "            header += [x]\n",
    "        else:\n",
    "            # appending the row, with the ROWDATA: and \\n removed, then split into an array,\n",
    "            # then reversed horizontally to match the row/col reference\n",
    "            tekmap += [x[8:-2].split(' ')[::-1]]\n",
    "\n",
    "    # making an emply list to fill with row, column, and results info from the wafer map\n",
    "    maplist = []\n",
    "\n",
    "    # parsing through tekmap to get row, column, and results in the new list\n",
    "    for n,x in enumerate(tekmap):\n",
    "        for m,y in enumerate(x):\n",
    "            maplist += [[n+1,m+1,y]]\n",
    "\n",
    "    # creating a new pandas dataframe using the row, column, and result list\n",
    "    df = pd.DataFrame(data=maplist, columns=['row','column','result'])\n",
    "\n",
    "    # adding the header information as columns, in reverse order since the columns are being added to the front of the dataframe each time\n",
    "    for x in header[::-1]:\n",
    "        df.insert(0,x.split(':')[0],x.split(':')[1][:-1])\n",
    "        \n",
    "    return df[df['result'] != '__']\n",
    "\n",
    "def Append_TekMap_DataFrames(folder):\n",
    "    # getting the file paths to parse through\n",
    "    paths = Get_TekMap_Paths(folder)\n",
    "    # creating dummy variable to use to create the first dataframe\n",
    "    first = 1\n",
    "    for x in paths:\n",
    "        if first == 1:\n",
    "            # making the first dataframe, setting first to 0\n",
    "            df_maps = TekMap_to_DataFrame(x)\n",
    "            first = 0\n",
    "        else:\n",
    "            # appending the rest of the dataframes\n",
    "            df_maps = df_maps.append(TekMap_to_DataFrame(x))\n",
    "    return df_maps"
   ]
  },
  {
   "cell_type": "code",
   "execution_count": 3,
   "metadata": {},
   "outputs": [],
   "source": [
    "folder = r'C:\\path\\to\\folder'\n",
    "\n",
    "df = Append_TekMap_DataFrames(folder)"
   ]
  },
  {
   "cell_type": "code",
   "execution_count": 5,
   "metadata": {},
   "outputs": [],
   "source": [
    "df.to_csv(folder+'\\\\'+'mapTable.csv')"
   ]
  },
  {
   "cell_type": "code",
   "execution_count": null,
   "metadata": {},
   "outputs": [],
   "source": [
    "for n,x in enumerate(tekmap):\n",
    "    for m,y in enumerate(x):\n",
    "        maplist += [[n,m,y]]\n",
    "\n",
    "# creating a new pandas dataframe using the row, column, and result list\n",
    "df = pd.DataFrame(data=maplist, columns=['row','column','result'])\n",
    "\n",
    "# adding the header information as columns, in reverse order since the columns are being added to the front of the dataframe each time\n",
    "for x in header[::-1]:\n",
    "    df.insert(0,x.split(':')[0],x.split(':')[1][:-1])"
   ]
  }
 ],
 "metadata": {
  "kernelspec": {
   "display_name": "Python 3 (ipykernel)",
   "language": "python",
   "name": "python3"
  },
  "language_info": {
   "codemirror_mode": {
    "name": "ipython",
    "version": 3
   },
   "file_extension": ".py",
   "mimetype": "text/x-python",
   "name": "python",
   "nbconvert_exporter": "python",
   "pygments_lexer": "ipython3",
   "version": "3.9.6"
  }
 },
 "nbformat": 4,
 "nbformat_minor": 4
}
