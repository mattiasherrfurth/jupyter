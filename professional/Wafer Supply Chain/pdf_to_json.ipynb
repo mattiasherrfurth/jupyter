{
 "cells": [
  {
   "cell_type": "code",
   "execution_count": 3,
   "id": "e054ee85-a356-44c9-885d-d5827a363a51",
   "metadata": {
    "tags": []
   },
   "outputs": [],
   "source": [
    "import pdfplumber\n",
    "import re\n",
    "import json"
   ]
  },
  {
   "cell_type": "code",
   "execution_count": 4,
   "id": "9591afc2-2a03-4320-a8d9-0e16ffd97792",
   "metadata": {
    "tags": []
   },
   "outputs": [],
   "source": [
    "folder = r'C:\\path\\to\\folder'\n",
    "mypdf = folder + '\\\\' + 'filename.pdf'"
   ]
  },
  {
   "cell_type": "code",
   "execution_count": null,
   "id": "de9bed38-c50e-4d69-9f42-22073731d5ec",
   "metadata": {},
   "outputs": [],
   "source": [
    "pack_slip = {}\n",
    "ps_items = []\n",
    "with pdfplumber.open(mypdf) as pdf:\n",
    "    for a_page in pdf.pages:\n",
    "        if a_page.page_number == 1:\n",
    "            line1_ship_to = None\n",
    "            line2_ship_to = None\n",
    "            line3_ship_to = None\n",
    "            line4_ship_to = None\n",
    "            line5_ship_to = None\n",
    "            collect = False\n",
    "            for line in a_page.extract_text_simple().split('\\n'):\n",
    "                if 'BILL TO' in line:\n",
    "                    collect = False\n",
    "                    break\n",
    "                elif 'SHIP TO' in line:\n",
    "                    line1_ship_to = line.split('SHIP TO:')[1].strip()\n",
    "                    collect = True\n",
    "                    pass\n",
    "                elif collect == True:\n",
    "                    if 'SHIP FROM' in line:\n",
    "                        line2_ship_to = line.split('SHIP FROM')[0].strip()\n",
    "                    elif 'street address' in line:\n",
    "                        line3_ship_to = line.split('2905')[0].strip()\n",
    "                    elif 'city address' in line:\n",
    "                        line4_ship_to = line.split('Beaverton')[0].strip()\n",
    "                    else:\n",
    "                        line5_ship_to = line.strip()\n",
    "            full_ship_to = str(line1_ship_to) + ', ' + str(line2_ship_to) + ', ' + str(line3_ship_to) + ', ' + str(line4_ship_to) + ', ' + str(line5_ship_to)\n",
    "            full_ship_to = full_ship_to.replace('None, ',' ')\n",
    "        for table in a_page.extract_tables():\n",
    "            for row in table:\n",
    "                if row[0].startswith('Delivery Name'):\n",
    "                    delivery_id = re.split(' |\\n',row[0])[2]\n",
    "                    for elem in row:\n",
    "                        if isinstance(elem,str) and elem.startswith('Date Printed'):\n",
    "                            print_date = row[2][13:]\n",
    "                elif row[0] == 'SHIP FROM:':\n",
    "                    full_ship_from = row[1]\n",
    "                    line1_ship_from = full_ship_from.split('\\n')[0]\n",
    "                    line2_ship_from = full_ship_from.split('\\n')[1]\n",
    "                    line3_ship_from = full_ship_from.split('\\n')[2]\n",
    "                elif row[0] == 'BILL TO:':\n",
    "                    full_bill_to = row[1]\n",
    "                    line1_bill_to = full_bill_to.split('\\n')[0]\n",
    "                    line2_bill_to = full_bill_to.split('\\n')[1]\n",
    "                    line3_bill_to = full_bill_to.split('\\n')[2]\n",
    "                elif row[0].startswith('PO Ref #'):\n",
    "                    purchase_order_number = row[0].split('\\n')[-1]\n",
    "                    ship_method = row[1].split('\\n')[-1]\n",
    "                    freight_terms = row[2].split('\\n')[-1]\n",
    "                    sales_order = row[3].split('\\n')[-1]\n",
    "                elif 'Shipping Instruction' in row[0]:\n",
    "                    packing_slip_number = row[1].split('\\n')[-1]\n",
    "                    for elem in row:\n",
    "                        if isinstance(elem,str) and elem.startswith('Tracking'):\n",
    "                            tracking_numbers = ''.join(elem.split('\\n')).replace('Tracking Number','').split(':')\n",
    "                elif row[0] not in ['Packing Slip','Customer Item #/Desc','Line Description','']:\n",
    "                    ps_items.append({'part_number': row[0]\n",
    "                                     ,'purchase_order_line_number': row[1]\n",
    "                                     ,'tek_cso_item_number': row[2]\n",
    "                                     ,'lot_number': ''.join(row[4].split('\\n'))\n",
    "                                     ,'quantity_ordered': row[7]\n",
    "                                     ,'quantity_shipped': row[8]\n",
    "                                    })\n",
    "pack_slip = {\n",
    "    \"delivery_id\": delivery_id\n",
    "    ,\"print_date\": print_date\n",
    "    ,\"full_ship_to\": full_ship_to\n",
    "    ,\"line1_ship_to\": line1_ship_to\n",
    "    ,\"line2_ship_to\": line2_ship_to\n",
    "    ,\"line3_ship_to\": line3_ship_to\n",
    "    ,\"full_ship_from\": full_ship_from.replace('\\n',', ')\n",
    "    ,\"line1_ship_from\": line1_ship_from\n",
    "    ,\"line2_ship_from\": line2_ship_from\n",
    "    ,\"line3_ship_from\": line3_ship_from\n",
    "    ,\"full_bill_to\": full_bill_to.replace('\\n',', ')\n",
    "    ,\"line1_bill_to\": line1_bill_to\n",
    "    ,\"line2_bill_to\": line2_bill_to\n",
    "    ,\"line3_bill_to\": line3_bill_to\n",
    "    ,\"purchase_order_number\": purchase_order_number\n",
    "    ,\"ship_method\": ship_method\n",
    "    ,\"freight_terms\": freight_terms\n",
    "    ,\"sales_order\": sales_order\n",
    "    ,\"packing_slip_number\": packing_slip_number\n",
    "    ,\"tracking_numbers\": tracking_numbers\n",
    "}"
   ]
  },
  {
   "cell_type": "code",
   "execution_count": null,
   "id": "942fc007-f719-450f-a99b-4a1d754871e8",
   "metadata": {},
   "outputs": [],
   "source": [
    "pack_slip_json = json.dumps(pack_slip)\n",
    "ps_items_json = json.dumps(ps_items)"
   ]
  }
 ],
 "metadata": {
  "kernelspec": {
   "display_name": "Python 3 (ipykernel)",
   "language": "python",
   "name": "python3"
  },
  "language_info": {
   "codemirror_mode": {
    "name": "ipython",
    "version": 3
   },
   "file_extension": ".py",
   "mimetype": "text/x-python",
   "name": "python",
   "nbconvert_exporter": "python",
   "pygments_lexer": "ipython3",
   "version": "3.9.6"
  }
 },
 "nbformat": 4,
 "nbformat_minor": 5
}
