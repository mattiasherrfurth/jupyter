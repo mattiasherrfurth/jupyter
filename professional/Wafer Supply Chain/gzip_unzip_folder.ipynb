{
 "cells": [
  {
   "cell_type": "code",
   "execution_count": 1,
   "id": "690e33bc-b896-4eb3-95da-46bf64abe2e5",
   "metadata": {
    "tags": []
   },
   "outputs": [],
   "source": [
    "import gzip\n",
    "import shutil\n",
    "import os"
   ]
  },
  {
   "cell_type": "code",
   "execution_count": 2,
   "id": "000180bf-8dde-4e39-bbd7-a7cdee48b3ed",
   "metadata": {
    "tags": []
   },
   "outputs": [],
   "source": [
    "folder = r'C:\\path\\to\\folder'\n",
    "infile = r'zipped_file.gz'\n",
    "outfile = infile.split('.gz')[0]\n",
    "inpath = folder + '\\\\' + infile\n",
    "outpath = folder + 'unzipped\\\\' + outfile"
   ]
  },
  {
   "cell_type": "code",
   "execution_count": 5,
   "id": "5a60786d-aa75-4950-b660-c6a7e3de7afc",
   "metadata": {
    "tags": []
   },
   "outputs": [],
   "source": [
    "for infile in os.listdir(folder):\n",
    "    outfile = infile.split('.gz')[0]\n",
    "    inpath = folder + '\\\\' + infile\n",
    "    outpath = folder + 'unzipped\\\\' + outfile\n",
    "    with gzip.open(inpath, 'rb') as f_in:\n",
    "        with open(outpath, 'wb') as f_out:\n",
    "            shutil.copyfileobj(f_in, f_out)"
   ]
  }
 ],
 "metadata": {
  "kernelspec": {
   "display_name": "Python 3 (ipykernel)",
   "language": "python",
   "name": "python3"
  },
  "language_info": {
   "codemirror_mode": {
    "name": "ipython",
    "version": 3
   },
   "file_extension": ".py",
   "mimetype": "text/x-python",
   "name": "python",
   "nbconvert_exporter": "python",
   "pygments_lexer": "ipython3",
   "version": "3.9.6"
  }
 },
 "nbformat": 4,
 "nbformat_minor": 5
}
