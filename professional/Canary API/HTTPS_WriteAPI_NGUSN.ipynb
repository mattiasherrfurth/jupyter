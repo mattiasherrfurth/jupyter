{
 "cells": [
  {
   "cell_type": "code",
   "execution_count": null,
   "id": "0f1f264a",
   "metadata": {},
   "outputs": [],
   "source": [
    "import requests\n",
    "import json\n",
    "from getpass import getpass"
   ]
  },
  {
   "cell_type": "code",
   "execution_count": null,
   "id": "22f4355c",
   "metadata": {},
   "outputs": [],
   "source": [
    "# using authentication [user,pass] to get a token from the historian\n",
    "def getSenderUserToken(auth,url):\n",
    "    method = 'getUserToken'\n",
    "    payload = \"{\\r\\n  \\\"username\\\":\\\"%s\\\",\\r\\n  \\\"password\\\":\\\"%s\\\"\\r\\n}\"%(auth[0],auth[1])\n",
    "    headers = {'Content-Type': 'application/json','Content-Type': 'application/json'}\n",
    "    resp = requests.request(\"POST\", url+method, headers=headers, data=payload).text.encode('utf8')\n",
    "    userToken = str(resp).split(r'\"')[-2]\n",
    "    parsed = json.loads(resp)\n",
    "    if parsed.get('statusCode') == 'Good':\n",
    "        return userToken\n",
    "    else:\n",
    "        print('\\nThe %s response was not Good, it looks like this: \\n\\n%s'%(method,parsed))\n",
    "\n",
    "# using the getSenderUserToken and a post to the getSessionToken endpoint to return both tokens\n",
    "def getSenderTokens(url):\n",
    "    method = 'getSessionToken'\n",
    "    # requesting user and pass\n",
    "    print('\\nEnter your username: ')\n",
    "    user = input()\n",
    "    print('\\nEnter your password: ')\n",
    "    pswd = getpass()\n",
    "    auth = [user,pswd]\n",
    "    userToken = getSenderUserToken(auth,url)\n",
    "    payload = \"{\\r\\n  \\\"userToken\\\":\\\"%s\\\",\\r\\n  \\\"historians\\\":[\\\"hostname\\\"],\\r\\n  \\\"clientId\\\":\\\"pythonWriteAPI\\\",\\r\\n  \\\"settings\\\":{\\r\\n  \\t\\\"clientTimeout\\\":300000,\\r\\n  \\t\\\"fileSize\\\":8,\\r\\n  \\t\\\"autoCreateDatasets\\\": true,\\r\\n  \\t\\\"autoWriteNoData\\\": false\\r\\n  }\\r\\n}\"%userToken\n",
    "    headers = {\n",
    "      'Content-Type': 'application/json',\n",
    "      'Content-Type': 'text/plain'\n",
    "    }\n",
    "    resp = requests.request(\"POST\", url+method, headers=headers, data=payload).text.encode('utf8')\n",
    "    sessToken = str(resp).split(r'\"')[-2]\n",
    "    parsed = json.loads(resp)\n",
    "    if parsed.get('statusCode') == 'Good':\n",
    "        return (userToken,sessToken)\n",
    "    else:\n",
    "        print('\\nThe %s response was not Good, it looks like this: \\n\\n%s'%(method,parsed))\n",
    "        return ('error','error')\n",
    "\n",
    "# function for making the payload for a storeData post of a single TVQ\n",
    "def storeDataMakePayload(tag,timestamp,value,utoken,stoken):\n",
    "    payload = \"%s\\\": [\\r\\n  \\t\\t[\\r\\n  \\t\\t\\\"%s\\\",\\r\\n  \\t\\t%s\\r\\n  \\t\\t]\\r\\n  \\t]\\r\\n  }\\r\\n}\"%(tag,timestamp,value)\n",
    "    payload = \"{\\r\\n  \\\"userToken\\\":\\\"%s\\\",\\r\\n  \\\"sessionToken\\\":\\\"%s\\\",\\r\\n  \\\"tvqs\\\": {\\r\\n  \\t\\\"\"%(utoken,stoken) + payload\n",
    "    return payload\n",
    "\n",
    "# function for reading in a CSV and recursively writing each TVQ to the historian\n",
    "# NOTE: this function assumes the file name is the tag you want to write to\n",
    "# NOTE: this function is only for storing a single stream of data,\n",
    "#       where the 1st column is the TIMESTAMP and 2nd column is the VALUE\n",
    "def storeDataSingleStream(url):\n",
    "    method = 'storeData'\n",
    "    data = []\n",
    "    headers = {\n",
    "      'Content-Type': 'application/json',\n",
    "      'Content-Type': 'text/plain'\n",
    "    }\n",
    "    utoken,stoken = getSenderTokens(url)\n",
    "    print('\\nEnter the full path to the file, including file name extension (i.e. include .csv or .txt): ')\n",
    "    filepath = input()\n",
    "    print('\\nEnter the dataset to write to: ')\n",
    "    name = '.'.join(filepath.split('\\\\')[-1].split('.')[:-1])\n",
    "    dataset = input()\n",
    "    print('\\nEnter a branch you want to write to, or leave blank to use the filename as the branch: ')\n",
    "    branch = input()\n",
    "    if branch == '':\n",
    "        tag = dataset + '.' + filepath.split('\\\\')[-1].split('.')[0]\n",
    "    else:\n",
    "        tag = dataset + '.' + branch + '.' + name\n",
    "    with open(filepath) as f:\n",
    "        raw = f.readlines()\n",
    "        for r in raw:\n",
    "            data += [r.replace('\\n','').split(',')]\n",
    "    data = data[1:]\n",
    "    for d in data:\n",
    "        payload = storeDataMakePayload(tag,d[0],d[1],utoken,stoken)\n",
    "        response = requests.request(\"POST\", url+method, headers=headers, data=payload).text.encode('utf8')\n",
    "        parsed = json.loads(response)\n",
    "        if parsed.get('statusCode') == 'Good':\n",
    "            print(response)\n",
    "        else:\n",
    "            print('\\nThe %s response was not Good, it looks like this: \\n\\n%s'%(method,parsed))"
   ]
  },
  {
   "cell_type": "code",
   "execution_count": null,
   "id": "a1fb08cb",
   "metadata": {},
   "outputs": [],
   "source": [
    "url = \"https://hostname:port/api/v1/\""
   ]
  },
  {
   "cell_type": "code",
   "execution_count": null,
   "id": "2c034c8c",
   "metadata": {},
   "outputs": [],
   "source": [
    "storeDataSingleStream(url)"
   ]
  }
 ],
 "metadata": {
  "kernelspec": {
   "display_name": "Python 3 (ipykernel)",
   "language": "python",
   "name": "python3"
  },
  "language_info": {
   "codemirror_mode": {
    "name": "ipython",
    "version": 3
   },
   "file_extension": ".py",
   "mimetype": "text/x-python",
   "name": "python",
   "nbconvert_exporter": "python",
   "pygments_lexer": "ipython3",
   "version": "3.9.6"
  }
 },
 "nbformat": 4,
 "nbformat_minor": 5
}
