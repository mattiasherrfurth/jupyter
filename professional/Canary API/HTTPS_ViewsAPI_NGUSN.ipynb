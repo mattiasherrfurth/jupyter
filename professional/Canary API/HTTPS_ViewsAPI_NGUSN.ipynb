{
 "cells": [
  {
   "cell_type": "code",
   "execution_count": null,
   "id": "600f8d8e-5ec9-48e7-acbd-3677b5feac57",
   "metadata": {
    "tags": []
   },
   "outputs": [],
   "source": [
    "import requests\n",
    "import json\n",
    "import pandas as pd\n",
    "from getpass import getpass\n",
    "from dateutil import parser\n",
    "from datetime import timedelta"
   ]
  },
  {
   "cell_type": "code",
   "execution_count": null,
   "id": "b0be2ec6",
   "metadata": {
    "tags": []
   },
   "outputs": [],
   "source": [
    "# input username and password to get a token from the historian\n",
    "def getViewerToken(url):\n",
    "    # requesting user and pass\n",
    "    print('Enter your username: ')\n",
    "    user = input()\n",
    "    print('\\nEnter your password: ')\n",
    "    pswd = getpass()\n",
    "    # getting a token\n",
    "    payload = \"\"\"\n",
    "                {\\r\\n  \\\"username\\\":\\\"%s\\\",\n",
    "                \\r\\n  \\\"password\\\":\\\"%s\\\"\\r\\n}\"\n",
    "                \"\"\"%(user,pswd)\n",
    "    headers = {'Content-Type': 'application/json','Content-Type': 'application/json'}\n",
    "    resp = requests.request(\"POST\", url+'getUserToken', headers=headers, data=payload).text.encode('utf8')\n",
    "    userToken = str(resp).split(r'\"')[-2]\n",
    "    parsed = json.loads(resp)\n",
    "    if parsed.get('statusCode') == 'Good':\n",
    "        print('\\nYour token is: %s'%userToken)\n",
    "        return userToken\n",
    "    else:\n",
    "        print('The response was not Good, it looks like this: \\n\\n%s'%parsed)\n",
    "\n",
    "# finding tags using search string\n",
    "def searchTags(url,token,path,deep,search):\n",
    "    payload = \"{\\r\\n  \\\"userToken\\\": \\\"%s\\\",\\r\\n  \\\"path\\\": \\\"%s\\\",\\r\\n  \\\"deep\\\": %s,\\r\\n  \\\"search\\\": \\\"%s\\\"\\r\\n}\"%(token,path,deep,search)\n",
    "    headers = {'Content-Type': 'application/json','Content-Type': 'text/plain'}\n",
    "    resp = requests.request(\"POST\", url+'browseTags', headers=headers, data=payload).text\n",
    "    parsed = json.loads(resp)\n",
    "    if parsed.get('statusCode') == 'Good':\n",
    "        return parsed['tags']\n",
    "    else:\n",
    "        print('The response was not Good, it looks like this: \\n\\n%s'%parsed)\n",
    "\n",
    "# getting a dataframe of the raw data from the tags for the specific timeframe\n",
    "def getTagDataFrame(url,token,tags,startTime,endTime):\n",
    "    payload = \"{\\r\\n  \\\"userToken\\\": \\\"%s\\\",\\r\\n  \\\"tags\\\": %s,\\r\\n  \\\"startTime\\\": \\\"%s\\\",\\r\\n  \\\"endTime\\\": \\\"%s\\\"\\r\\n}\"%(token,tags,startTime,endTime)\n",
    "    headers = {'Content-Type': 'application/json','Content-Type': 'text/plain'}\n",
    "    resp = requests.request(\"POST\", url+'getTagData', headers=headers, data = payload).text\n",
    "    parsed = json.loads(resp)\n",
    "    if parsed.get('statusCode') == 'Good':\n",
    "        cols = ['full_branch','tag','t','v']\n",
    "        df_full = pd.DataFrame(columns=cols)\n",
    "        data_dict = parsed['data']\n",
    "        for key in data_dict:\n",
    "            df_key = pd.DataFrame(data_dict[key])\n",
    "            df_key.insert(0, 'tag', key.split('.')[-1])\n",
    "            df_key.insert(0, 'full_branch', key)\n",
    "            df_full = pd.concat([df_full,df_key])\n",
    "        df_full = df_full.reset_index(drop=True)\n",
    "        return df_full\n",
    "    else:\n",
    "        print('The response was not Good, it looks like this: \\n\\n%s'%parsed)\n",
    "        \n",
    "# getting inputs from user for searching tags and outputting tag data to a dataframe\n",
    "def searchTagsAndGetDataframe():\n",
    "    url = \"http://hostname:port/api/v2/\"\n",
    "    token = getViewerToken(url)\n",
    "    # requesting a path\n",
    "    print('\\nEnter a path in the historian to search through, or leave blank: ')\n",
    "    path = input()\n",
    "    # checking for recursive (deep) searching\n",
    "    print('\\nWould you like to recursively search through all branches in the path? ([Y]/n)')\n",
    "    deep_resp = input()\n",
    "    chk = 0\n",
    "    while chk == 0:\n",
    "        if deep_resp.lower() == 'y':\n",
    "            deep = 'true'\n",
    "            chk = 1\n",
    "        elif deep_resp.lower() == 'n':\n",
    "            deep = 'false'\n",
    "            chk = 1\n",
    "        elif deep_resp == '':\n",
    "            deep = 'true'\n",
    "            chk = 1\n",
    "        else:\n",
    "            print('\\nPlease use \"y\" or \"n\" to indicate whether you want to search through all branches in the path.')\n",
    "            deep_resp = input()\n",
    "    # getting a search string\n",
    "    print('\\nEnter a search string to find the tags you want data from: ')\n",
    "    search_resp = input()\n",
    "    chk2 = 0\n",
    "    while chk2 == 0:\n",
    "        if search_resp == '':\n",
    "            print('\\nPlease enter a search string: ')\n",
    "            search_resp = input()\n",
    "        else:\n",
    "            search = search_resp\n",
    "            tags = searchTags(url,token,path,deep,search)\n",
    "            for t in tags:\n",
    "                print(t)\n",
    "            print('\\n\\nWould you like to get the data for this set of tags? (y/[N])')\n",
    "            tagchk_resp = input()\n",
    "            if tagchk_resp.lower() == 'y':\n",
    "                chk2 = 1\n",
    "            else:\n",
    "                print('\\nEnter a search string to find the tags you want data from: ')\n",
    "                search_resp = input()\n",
    "    # getting start and end date / times\n",
    "    print('\\nWhat is the start date / time? Ex. \"now-7d\" means the start date will be a week ago.')\n",
    "    startTime = input()\n",
    "    print('\\nWhat is the end date / time? Default = \"now\"')\n",
    "    endTime_resp = input()\n",
    "    if deep_resp.lower() == '':\n",
    "        endTime = 'now'\n",
    "    else:\n",
    "        endTime = endTime_resp\n",
    "    #getting the dataframe, writing it to Excel and returning it\n",
    "    df = getTagDataFrame(url,token,tags,startTime,endTime)\n",
    "    df['t'] = pd.to_datetime(df['t'])\n",
    "    return df"
   ]
  },
  {
   "cell_type": "code",
   "execution_count": null,
   "id": "258a9fbb-ee5c-4717-9c3e-320b9e32d7a1",
   "metadata": {
    "tags": []
   },
   "outputs": [],
   "source": [
    "df_upchkpre = searchTagsAndGetDataframe()"
   ]
  },
  {
   "cell_type": "code",
   "execution_count": null,
   "id": "018505ba",
   "metadata": {},
   "outputs": [],
   "source": [
    "df_upchkpost = searchTagsAndGetDataframe()"
   ]
  },
  {
   "cell_type": "code",
   "execution_count": null,
   "id": "30b7ed09-7637-417f-b257-9fd7517e58ac",
   "metadata": {
    "tags": []
   },
   "outputs": [],
   "source": [
    "df_upchkpre.head(10)"
   ]
  },
  {
   "cell_type": "code",
   "execution_count": null,
   "id": "fd982a09-7b09-4255-935c-5cee45ec28e8",
   "metadata": {
    "tags": []
   },
   "outputs": [],
   "source": [
    "df_upchkmerge = pd.merge(df_upchkpre, df_upchkpost, on=['t'])"
   ]
  },
  {
   "cell_type": "code",
   "execution_count": null,
   "id": "bfb2a5c7-906c-47f7-b390-cb5c0098ef37",
   "metadata": {
    "tags": []
   },
   "outputs": [],
   "source": [
    "df_upchkmerge['val_chk'] = df_upchkmerge['v_x'].equals(df_upchkmerge['v_y'])"
   ]
  },
  {
   "cell_type": "code",
   "execution_count": null,
   "id": "af849c36-310d-4d5b-ad63-c9a357f8e298",
   "metadata": {
    "tags": []
   },
   "outputs": [],
   "source": [
    "df_upchkmerge['val_chk'].unique()"
   ]
  }
 ],
 "metadata": {
  "kernelspec": {
   "display_name": "Python 3 (ipykernel)",
   "language": "python",
   "name": "python3"
  },
  "language_info": {
   "codemirror_mode": {
    "name": "ipython",
    "version": 3
   },
   "file_extension": ".py",
   "mimetype": "text/x-python",
   "name": "python",
   "nbconvert_exporter": "python",
   "pygments_lexer": "ipython3",
   "version": "3.9.6"
  }
 },
 "nbformat": 4,
 "nbformat_minor": 5
}
