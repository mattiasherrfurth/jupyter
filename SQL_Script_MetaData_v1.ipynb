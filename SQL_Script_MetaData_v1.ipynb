{
 "cells": [
  {
   "cell_type": "code",
   "execution_count": 1,
   "metadata": {},
   "outputs": [],
   "source": [
    "import pandas as pd\n",
    "import pyodbc"
   ]
  },
  {
   "cell_type": "code",
   "execution_count": 2,
   "metadata": {},
   "outputs": [],
   "source": [
    "cnxn = pyodbc.connect('Driver={SQL Server};'\n",
    "                      'Server=EIM-DB-AG40.NORTHGRUM.COM;'\n",
    "                      'Database=j20032_qn-count;'\n",
    "                      'Trusted_Connection=yes;')\n",
    "sql = \"\"\"SELECT * FROM [j20032_herrfurth_test].[dbo].[TDWH_MetaData_Table]\"\"\"\n",
    "df_meta = pd.read_sql(sql,cnxn)\n",
    "# getting rid of any trailing whitespace\n",
    "for col in df_meta.columns:\n",
    "    try:\n",
    "        df_meta[col] = df_meta[col].apply(lambda row: row.strip())\n",
    "    except:\n",
    "        pass"
   ]
  },
  {
   "cell_type": "code",
   "execution_count": 3,
   "metadata": {},
   "outputs": [],
   "source": [
    "sql_txt = [x for x in open(r'C:\\Users\\J20032\\Documents\\testing_SQL_MetaData.sql','r')]"
   ]
  },
  {
   "cell_type": "code",
   "execution_count": 6,
   "metadata": {},
   "outputs": [
    {
     "name": "stdout",
     "output_type": "stream",
     "text": [
      "QNOT_STAT_TXT had an index error.\n",
      "PART_DOCU_NO had an index error.\n",
      "QNOT_ORDR_RTG_NO had an index error.\n",
      "WCTR_BCTR_ID had an index error.\n",
      "ORDR_OCAT_CD had an index error.\n",
      "ORDR_OCAT_TYP had an index error.\n",
      "ORDR_WBSE_ID had an index error.\n",
      "Q1.* had an index error.\n",
      "T.NOTE_TXT had an index error.\n"
     ]
    }
   ],
   "source": [
    "sql_descs = ''\n",
    "rec = 0\n",
    "for y in sql_txt:\n",
    "    if ('SELECT' in y):\n",
    "        rec = 1\n",
    "        sql_descs += y\n",
    "    elif ('FROM' not in y) and (rec == 1):\n",
    "        field_nm = y.replace('\\\\n','').replace('\\\\t','').strip().replace(',','')\n",
    "        try:\n",
    "            desc = df_meta.loc[(df_meta['DFLD_NM']==field_nm) & (df_meta['TXLN_TYP']=='DESC')]['TXLN_TXT'].values[0]\n",
    "            sql_descs += y.replace('\\\\n','').replace(',',',\\t\\t--%s'%desc)\n",
    "        except IndexError:\n",
    "            print(field_nm + ' had an index error.')\n",
    "            sql_descs += y\n",
    "            pass\n",
    "    elif (rec == 0):\n",
    "        sql_descs += y\n",
    "        pass\n",
    "    else:\n",
    "        rec = 0\n",
    "        sql_descs += y\n",
    "        pass"
   ]
  },
  {
   "cell_type": "code",
   "execution_count": 9,
   "metadata": {},
   "outputs": [],
   "source": [
    "with open(r'C:\\Users\\J20032\\Documents\\testing_SQL_MetaData_output.sql','w') as txt:\n",
    "    txt.write(sql_descs)"
   ]
  }
 ],
 "metadata": {
  "kernelspec": {
   "display_name": "Python 3",
   "language": "python",
   "name": "python3"
  },
  "language_info": {
   "codemirror_mode": {
    "name": "ipython",
    "version": 3
   },
   "file_extension": ".py",
   "mimetype": "text/x-python",
   "name": "python",
   "nbconvert_exporter": "python",
   "pygments_lexer": "ipython3",
   "version": "3.7.3"
  }
 },
 "nbformat": 4,
 "nbformat_minor": 2
}
