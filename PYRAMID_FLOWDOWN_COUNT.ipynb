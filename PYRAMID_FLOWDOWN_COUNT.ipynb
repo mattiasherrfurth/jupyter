{
 "cells": [
  {
   "cell_type": "code",
   "execution_count": 1,
   "metadata": {},
   "outputs": [],
   "source": [
    "import pandas as pd\n",
    "import seaborn as sns\n",
    "import numpy as np\n",
    "from datetime import datetime\n",
    "import matplotlib.pyplot as plt"
   ]
  },
  {
   "cell_type": "code",
   "execution_count": 2,
   "metadata": {},
   "outputs": [],
   "source": [
    "df = pd.read_excel(r'C:\\Users\\J20032\\Documents\\pyramid_20190523.xlsx')\n",
    "\n",
    "counts = df.groupby(['Part', 'Prog', 'Insp Char']).agg(len)"
   ]
  },
  {
   "cell_type": "code",
   "execution_count": 5,
   "metadata": {},
   "outputs": [],
   "source": [
    "counts['count'] = counts['WBS']\n",
    "\n",
    "final = counts[['count']]"
   ]
  },
  {
   "cell_type": "code",
   "execution_count": 9,
   "metadata": {},
   "outputs": [
    {
     "data": {
      "text/html": [
       "<div>\n",
       "<style scoped>\n",
       "    .dataframe tbody tr th:only-of-type {\n",
       "        vertical-align: middle;\n",
       "    }\n",
       "\n",
       "    .dataframe tbody tr th {\n",
       "        vertical-align: top;\n",
       "    }\n",
       "\n",
       "    .dataframe thead th {\n",
       "        text-align: right;\n",
       "    }\n",
       "</style>\n",
       "<table border=\"1\" class=\"dataframe\">\n",
       "  <thead>\n",
       "    <tr style=\"text-align: right;\">\n",
       "      <th></th>\n",
       "      <th></th>\n",
       "      <th></th>\n",
       "      <th>count</th>\n",
       "    </tr>\n",
       "    <tr>\n",
       "      <th>Part</th>\n",
       "      <th>Prog</th>\n",
       "      <th>Insp Char</th>\n",
       "      <th></th>\n",
       "    </tr>\n",
       "  </thead>\n",
       "  <tbody>\n",
       "    <tr>\n",
       "      <th>296K860G02</th>\n",
       "      <th>Vesuvius P</th>\n",
       "      <th>MODFIN   - FINAL INSPECTION</th>\n",
       "      <td>10832</td>\n",
       "    </tr>\n",
       "    <tr>\n",
       "      <th>261K775G04</th>\n",
       "      <th>JSF</th>\n",
       "      <th>INPSCINP - InProcess Sample Inspection (Insp scrn)</th>\n",
       "      <td>7186</td>\n",
       "    </tr>\n",
       "    <tr>\n",
       "      <th>296K860G02</th>\n",
       "      <th>Cabin Feve</th>\n",
       "      <th>MODFIN   - FINAL INSPECTION</th>\n",
       "      <td>1571</td>\n",
       "    </tr>\n",
       "    <tr>\n",
       "      <th>255K250G08</th>\n",
       "      <th>F16</th>\n",
       "      <th>INPSCINP - InProcess Sample Inspection (Insp scrn)</th>\n",
       "      <td>1361</td>\n",
       "    </tr>\n",
       "    <tr>\n",
       "      <th>120K224G11</th>\n",
       "      <th>POD F-16 P</th>\n",
       "      <th>INPSCINP - InProcess Sample Inspection (Insp scrn)</th>\n",
       "      <td>744</td>\n",
       "    </tr>\n",
       "    <tr>\n",
       "      <th>255K250G52</th>\n",
       "      <th>F16</th>\n",
       "      <th>INPSCINP - InProcess Sample Inspection (Insp scrn)</th>\n",
       "      <td>488</td>\n",
       "    </tr>\n",
       "    <tr>\n",
       "      <th>255K251G07</th>\n",
       "      <th>F16</th>\n",
       "      <th>INSPNXRY - X-Ray  Inspection (NON-SERIAL)</th>\n",
       "      <td>288</td>\n",
       "    </tr>\n",
       "    <tr>\n",
       "      <th>210K265G03</th>\n",
       "      <th>Vesuvius P</th>\n",
       "      <th>MODPRE   - Preseal Inspection</th>\n",
       "      <td>286</td>\n",
       "    </tr>\n",
       "    <tr>\n",
       "      <th>261K775G04</th>\n",
       "      <th>F35 LRIP 1</th>\n",
       "      <th>INPSCINP - InProcess Sample Inspection (Insp scrn)</th>\n",
       "      <td>246</td>\n",
       "    </tr>\n",
       "    <tr>\n",
       "      <th>320K840G01</th>\n",
       "      <th>Calico Jac</th>\n",
       "      <th>MODPRE   - Preseal Inspection</th>\n",
       "      <td>223</td>\n",
       "    </tr>\n",
       "  </tbody>\n",
       "</table>\n",
       "</div>"
      ],
      "text/plain": [
       "                                                                          count\n",
       "Part       Prog       Insp Char                                                \n",
       "296K860G02 Vesuvius P MODFIN   - FINAL INSPECTION                         10832\n",
       "261K775G04 JSF        INPSCINP - InProcess Sample Inspection (Insp scrn)   7186\n",
       "296K860G02 Cabin Feve MODFIN   - FINAL INSPECTION                          1571\n",
       "255K250G08 F16        INPSCINP - InProcess Sample Inspection (Insp scrn)   1361\n",
       "120K224G11 POD F-16 P INPSCINP - InProcess Sample Inspection (Insp scrn)    744\n",
       "255K250G52 F16        INPSCINP - InProcess Sample Inspection (Insp scrn)    488\n",
       "255K251G07 F16        INSPNXRY - X-Ray  Inspection (NON-SERIAL)             288\n",
       "210K265G03 Vesuvius P MODPRE   - Preseal Inspection                         286\n",
       "261K775G04 F35 LRIP 1 INPSCINP - InProcess Sample Inspection (Insp scrn)    246\n",
       "320K840G01 Calico Jac MODPRE   - Preseal Inspection                         223"
      ]
     },
     "execution_count": 9,
     "metadata": {},
     "output_type": "execute_result"
    }
   ],
   "source": [
    "final = final.sort_values(by='count',axis=0,ascending=False)\n",
    "\n",
    "final.head(10)"
   ]
  },
  {
   "cell_type": "code",
   "execution_count": 13,
   "metadata": {},
   "outputs": [],
   "source": [
    "final.to_csv(r'C:\\Users\\J20032\\Documents\\JUPYTER\\counts_3.csv', encoding='utf-8')"
   ]
  }
 ],
 "metadata": {
  "kernelspec": {
   "display_name": "Python 3",
   "language": "python",
   "name": "python3"
  },
  "language_info": {
   "codemirror_mode": {
    "name": "ipython",
    "version": 3
   },
   "file_extension": ".py",
   "mimetype": "text/x-python",
   "name": "python",
   "nbconvert_exporter": "python",
   "pygments_lexer": "ipython3",
   "version": "3.7.0"
  }
 },
 "nbformat": 4,
 "nbformat_minor": 2
}
