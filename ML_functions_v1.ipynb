import pandas as pd
from sklearn.model_selection import train_test_split
import numpy as np
# import tensorflow as tf
import random
import sys
import seaborn as sns

import warnings
warnings.simplefilter(action='ignore', category=FutureWarning)

